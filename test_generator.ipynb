{
 "cells": [
  {
   "cell_type": "code",
   "execution_count": 6,
   "metadata": {},
   "outputs": [],
   "source": [
    "import random\n",
    "import string"
   ]
  },
  {
   "cell_type": "code",
   "execution_count": 7,
   "metadata": {},
   "outputs": [],
   "source": [
    "K = random.randint(10_000, 100_000)\n",
    "file = open(\"test\", \"w\")"
   ]
  },
  {
   "cell_type": "code",
   "execution_count": 8,
   "metadata": {},
   "outputs": [
    {
     "data": {
      "text/plain": [
       "<function TextIOWrapper.close()>"
      ]
     },
     "execution_count": 8,
     "metadata": {},
     "output_type": "execute_result"
    }
   ],
   "source": [
    "for _ in range(K):\n",
    "    file.write(chr(random.randint(65,90)))\n",
    "    file.write(' ')\n",
    "    file.write(str(random.randint(0, 9)))\n",
    "    file.write(str(random.randint(0, 9)))\n",
    "    file.write(str(random.randint(0, 9)))\n",
    "    file.write(' ')\n",
    "    file.write(chr(random.randint(65,90)))\n",
    "    file.write(chr(random.randint(65,90)))\n",
    "    file.write(' ')\n",
    "    for __ in range(random.randint(1, 64)):\n",
    "        file.write(str(chr(random.randint(65,90))).lower())\n",
    "    file.write('\\n')\n",
    "file.close\n",
    "    "
   ]
  },
  {
   "cell_type": "code",
   "execution_count": null,
   "metadata": {},
   "outputs": [],
   "source": []
  }
 ],
 "metadata": {
  "kernelspec": {
   "display_name": "Python 3",
   "language": "python",
   "name": "python3"
  },
  "language_info": {
   "codemirror_mode": {
    "name": "ipython",
    "version": 3
   },
   "file_extension": ".py",
   "mimetype": "text/x-python",
   "name": "python",
   "nbconvert_exporter": "python",
   "pygments_lexer": "ipython3",
   "version": "3.8.5"
  }
 },
 "nbformat": 4,
 "nbformat_minor": 4
}
